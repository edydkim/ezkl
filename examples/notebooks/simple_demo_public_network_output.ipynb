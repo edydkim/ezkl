{
  "cells": [
    {
      "cell_type": "markdown",
      "metadata": {
        "id": "view-in-github",
        "colab_type": "text"
      },
      "source": [
        "<a href=\"https://colab.research.google.com/github/edydkim/ezkl/blob/main/examples/notebooks/simple_demo_public_network_output.ipynb\" target=\"_parent\"><img src=\"https://colab.research.google.com/assets/colab-badge.svg\" alt=\"Open In Colab\"/></a>"
      ]
    },
    {
      "cell_type": "markdown",
      "id": "cf69bb3f-94e6-4dba-92cd-ce08df117d67",
      "metadata": {
        "id": "cf69bb3f-94e6-4dba-92cd-ce08df117d67"
      },
      "source": [
        "## EZKL Jupyter Notebook Demo\n",
        "\n",
        "Here we demonstrate how to use the EZKL package to run a publicly known / committed to network on some private data, producing a public output.\n"
      ]
    },
    {
      "cell_type": "code",
      "execution_count": 1,
      "id": "95613ee9",
      "metadata": {
        "id": "95613ee9"
      },
      "outputs": [],
      "source": [
        "# check if notebook is in colab\n",
        "try:\n",
        "    # install ezkl\n",
        "    import google.colab\n",
        "    import subprocess\n",
        "    import sys\n",
        "    subprocess.check_call([sys.executable, \"-m\", \"pip\", \"install\", \"ezkl\"])\n",
        "    subprocess.check_call([sys.executable, \"-m\", \"pip\", \"install\", \"onnx\"])\n",
        "\n",
        "# rely on local installation of ezkl if the notebook is not in colab\n",
        "except:\n",
        "    pass\n",
        "\n",
        "\n",
        "# here we create and (potentially train a model)\n",
        "\n",
        "# make sure you have the dependencies required here already installed\n",
        "from torch import nn\n",
        "import ezkl\n",
        "import os\n",
        "import json\n",
        "import torch\n",
        "\n",
        "\n",
        "# Defines the model\n",
        "# we got convs, we got relu, we got linear layers\n",
        "# What else could one want ????\n",
        "\n",
        "class MyModel(nn.Module):\n",
        "    def __init__(self):\n",
        "        super(MyModel, self).__init__()\n",
        "\n",
        "        self.conv1 = nn.Conv2d(in_channels=1, out_channels=2, kernel_size=5, stride=2)\n",
        "        self.conv2 = nn.Conv2d(in_channels=2, out_channels=3, kernel_size=5, stride=2)\n",
        "\n",
        "        self.relu = nn.ReLU()\n",
        "\n",
        "        self.d1 = nn.Linear(48, 48)\n",
        "        self.d2 = nn.Linear(48, 10)\n",
        "\n",
        "    def forward(self, x):\n",
        "        # 32x1x28x28 => 32x32x26x26\n",
        "        x = self.conv1(x)\n",
        "        x = self.relu(x)\n",
        "        x = self.conv2(x)\n",
        "        x = self.relu(x)\n",
        "\n",
        "        # flatten => 32 x (32*26*26)\n",
        "        x = x.flatten(start_dim = 1)\n",
        "\n",
        "        # 32 x (32*26*26) => 32x128\n",
        "        x = self.d1(x)\n",
        "        x = self.relu(x)\n",
        "\n",
        "        # logits => 32x10\n",
        "        logits = self.d2(x)\n",
        "\n",
        "        return logits\n",
        "\n",
        "\n",
        "circuit = MyModel()\n",
        "\n",
        "# Train the model as you like here (skipped for brevity)\n",
        "\n",
        "\n"
      ]
    },
    {
      "cell_type": "code",
      "execution_count": 2,
      "id": "b37637c4",
      "metadata": {
        "id": "b37637c4"
      },
      "outputs": [],
      "source": [
        "model_path = os.path.join('network.onnx')\n",
        "compiled_model_path = os.path.join('network.compiled')\n",
        "pk_path = os.path.join('test.pk')\n",
        "vk_path = os.path.join('test.vk')\n",
        "settings_path = os.path.join('settings.json')\n",
        "\n",
        "witness_path = os.path.join('witness.json')\n",
        "data_path = os.path.join('input.json')"
      ]
    },
    {
      "cell_type": "code",
      "execution_count": 3,
      "id": "82db373a",
      "metadata": {
        "id": "82db373a"
      },
      "outputs": [],
      "source": [
        "\n",
        "shape = [1, 28, 28]\n",
        "# After training, export to onnx (network.onnx) and create a data file (input.json)\n",
        "x = 0.1*torch.rand(1,*shape, requires_grad=True)\n",
        "\n",
        "# Flips the neural net into inference mode\n",
        "circuit.eval()\n",
        "\n",
        "    # Export the model\n",
        "torch.onnx.export(circuit,               # model being run\n",
        "                      x,                   # model input (or a tuple for multiple inputs)\n",
        "                      model_path,            # where to save the model (can be a file or file-like object)\n",
        "                      export_params=True,        # store the trained parameter weights inside the model file\n",
        "                      opset_version=10,          # the ONNX version to export the model to\n",
        "                      do_constant_folding=True,  # whether to execute constant folding for optimization\n",
        "                      input_names = ['input'],   # the model's input names\n",
        "                      output_names = ['output'], # the model's output names\n",
        "                      dynamic_axes={'input' : {0 : 'batch_size'},    # variable length axes\n",
        "                                    'output' : {0 : 'batch_size'}})\n",
        "\n",
        "data_array = ((x).detach().numpy()).reshape([-1]).tolist()\n",
        "\n",
        "data = dict(input_data = [data_array])\n",
        "\n",
        "    # Serialize data into file:\n",
        "json.dump( data, open(data_path, 'w' ))\n"
      ]
    },
    {
      "cell_type": "code",
      "execution_count": 4,
      "id": "d5e374a2",
      "metadata": {
        "id": "d5e374a2"
      },
      "outputs": [],
      "source": [
        "py_run_args = ezkl.PyRunArgs()\n",
        "py_run_args.input_visibility = \"private\"\n",
        "py_run_args.output_visibility = \"public\"\n",
        "py_run_args.param_visibility = \"fixed\" # private by default\n",
        "\n",
        "res = ezkl.gen_settings(model_path, settings_path, py_run_args=py_run_args)\n",
        "\n",
        "assert res == True\n"
      ]
    },
    {
      "cell_type": "code",
      "execution_count": 5,
      "metadata": {
        "id": "Kv6fY9w3JeyC",
        "outputId": "cf211537-cf27-4178-b06d-7bf864df5bf1",
        "colab": {
          "base_uri": "https://localhost:8080/"
        }
      },
      "outputs": [
        {
          "output_type": "stream",
          "name": "stderr",
          "text": [
            "ERROR:ezkl.graph.model:[tensor] decomposition error: integer -610150149 is too large to be represented by base 16384 and n 2\n",
            "ERROR:ezkl.execute:forward pass failed: \"failed to forward: [halo2] General synthesis error\"\n",
            "ERROR:ezkl.graph.model:[tensor] decomposition error: integer -2449049795 is too large to be represented by base 16384 and n 2\n",
            "ERROR:ezkl.execute:forward pass failed: \"failed to forward: [halo2] General synthesis error\"\n",
            "ERROR:ezkl.graph.model:[tensor] decomposition error: integer -9801518207 is too large to be represented by base 16384 and n 2\n",
            "ERROR:ezkl.execute:forward pass failed: \"failed to forward: [halo2] General synthesis error\"\n",
            "ERROR:ezkl.graph.model:[tensor] decomposition error: integer -4898872871 is too large to be represented by base 16384 and n 2\n",
            "ERROR:ezkl.execute:forward pass failed: \"failed to forward: [halo2] General synthesis error\"\n",
            "ERROR:ezkl.graph.model:[tensor] decomposition error: integer -19606117158 is too large to be represented by base 16384 and n 2\n",
            "ERROR:ezkl.execute:forward pass failed: \"failed to forward: [halo2] General synthesis error\"\n",
            "ERROR:ezkl.graph.model:[tensor] decomposition error: integer -39199036619 is too large to be represented by base 16384 and n 2\n",
            "ERROR:ezkl.execute:forward pass failed: \"failed to forward: [halo2] General synthesis error\"\n",
            "WARNING:ezkl.execute:\n",
            "\n",
            " <------------- Numerical Fidelity Report (input_scale: 13, param_scale: 13, scale_input_multiplier: 1) ------------->\n",
            "\n",
            "+-----------------+----------------+---------------+---------------+----------------+------------------+---------------+-------------------+--------------------+--------------------+------------------------+\n",
            "| mean_error      | median_error   | max_error     | min_error     | mean_abs_error | median_abs_error | max_abs_error | min_abs_error     | mean_squared_error | mean_percent_error | mean_abs_percent_error |\n",
            "+-----------------+----------------+---------------+---------------+----------------+------------------+---------------+-------------------+--------------------+--------------------+------------------------+\n",
            "| -0.000009380281 | 0.000016063452 | 0.00015617907 | -0.0001590699 | 0.00004958354  | 0.000016063452   | 0.0001590699  | 0.000000059604645 | 0.0000000035946521 | -0.0009821098      | 0.0018933169           |\n",
            "+-----------------+----------------+---------------+---------------+----------------+------------------+---------------+-------------------+--------------------+--------------------+------------------------+\n",
            "\n",
            "\n"
          ]
        },
        {
          "output_type": "execute_result",
          "data": {
            "text/plain": [
              "True"
            ]
          },
          "metadata": {},
          "execution_count": 5
        }
      ],
      "source": [
        "cal_path = os.path.join(\"calibration.json\")\n",
        "\n",
        "data_array = (torch.rand(20, *shape, requires_grad=True).detach().numpy()).reshape([-1]).tolist()\n",
        "\n",
        "data = dict(input_data = [data_array])\n",
        "\n",
        "# Serialize data into file:\n",
        "json.dump(data, open(cal_path, 'w'))\n",
        "\n",
        "\n",
        "await ezkl.calibrate_settings(cal_path, model_path, settings_path, \"resources\")"
      ],
      "id": "Kv6fY9w3JeyC"
    },
    {
      "cell_type": "code",
      "execution_count": 6,
      "id": "3aa4f090",
      "metadata": {
        "id": "3aa4f090"
      },
      "outputs": [],
      "source": [
        "res = ezkl.compile_circuit(model_path, compiled_model_path, settings_path)\n",
        "assert res == True"
      ]
    },
    {
      "cell_type": "code",
      "execution_count": 7,
      "id": "8b74dcee",
      "metadata": {
        "id": "8b74dcee"
      },
      "outputs": [],
      "source": [
        "# srs path\n",
        "res = await ezkl.get_srs( settings_path)"
      ]
    },
    {
      "cell_type": "code",
      "execution_count": 8,
      "id": "18c8b7c7",
      "metadata": {
        "id": "18c8b7c7"
      },
      "outputs": [],
      "source": [
        "# now generate the witness file\n",
        "\n",
        "res = await ezkl.gen_witness(data_path, compiled_model_path, witness_path)\n",
        "assert os.path.isfile(witness_path)"
      ]
    },
    {
      "cell_type": "code",
      "execution_count": 9,
      "id": "b1c561a8",
      "metadata": {
        "id": "b1c561a8"
      },
      "outputs": [],
      "source": [
        "\n",
        "# HERE WE SETUP THE CIRCUIT PARAMS\n",
        "# WE GOT KEYS\n",
        "# WE GOT CIRCUIT PARAMETERS\n",
        "# EVERYTHING ANYONE HAS EVER NEEDED FOR ZK\n",
        "\n",
        "\n",
        "\n",
        "res = ezkl.setup(\n",
        "        compiled_model_path,\n",
        "        vk_path,\n",
        "        pk_path,\n",
        "\n",
        "    )\n",
        "\n",
        "assert res == True\n",
        "assert os.path.isfile(vk_path)\n",
        "assert os.path.isfile(pk_path)\n",
        "assert os.path.isfile(settings_path)"
      ]
    },
    {
      "cell_type": "code",
      "execution_count": 10,
      "id": "c384cbc8",
      "metadata": {
        "id": "c384cbc8",
        "outputId": "f9828bd8-eeab-4d7c-d4e4-076b935ae4e6",
        "colab": {
          "base_uri": "https://localhost:8080/"
        }
      },
      "outputs": [
        {
          "output_type": "stream",
          "name": "stdout",
          "text": [
            "{'instances': [['b7fcffef93f5e1439170b97948e833285d588181b64550b829a031e1724e6430', '1dfdffef93f5e1439170b97948e833285d588181b64550b829a031e1724e6430', '2e03000000000000000000000000000000000000000000000000000000000000', '0600000000000000000000000000000000000000000000000000000000000000', '9cffffef93f5e1439170b97948e833285d588181b64550b829a031e1724e6430', '9501000000000000000000000000000000000000000000000000000000000000', '1afbffef93f5e1439170b97948e833285d588181b64550b829a031e1724e6430', '7c00000000000000000000000000000000000000000000000000000000000000', 'a9fcffef93f5e1439170b97948e833285d588181b64550b829a031e1724e6430', 'cdfbffef93f5e1439170b97948e833285d588181b64550b829a031e1724e6430']], 'proof': '0x0decd8aae0a325fcae52fdad3f625da5b99bc113c3e17a48bd1e4870e573541a177fe247fb44156a288bcdda5a0ca58eb9f2c0abe021b8628c0d4af352091d7a15cd7235f9a4d9681c8f67c9ad84464a351f6ef0ee8637559bbbc44f2223bdbf2b9a8bcaf136237a12522f3c805dd30a9cb0af7dee5e4232a25dbf28a782e16d0086f2a1b19fa5df81c4523e5f74d58770622f75714bf33d89ae38af8475c3fe2409b57b206357e590cb48f92055bc89deb1606bc9d9df611307cfc1169ea69c3000d53512dc9501e415f4c49479ba0a0548f4dbca6837c3f42245562098f0141965a3351b7d0309828a1e63528bb24880b45883837fe25bad8f3677a791cc22197ad212af3821eab83ac0b686711db995869d144af7ef64a7f8060aa1b1a0f91ecf0e5ce7abdb8a8cca29e66c42ce3ac4d58520bac5f7cf8fd6837e7c0244651988a0425c57d155fdc3ae14a62a1225b0c7f7395520e7ec9c82adf5cea0aceb02ec8a54e9cd5c7b500e046af6246ade9c4dfd5572f5249217550c21ce312de409dc4e2bab04b6aeb8be1be9e2fd0b9b41ecc19b7a57b469ce0048ede36554bc2493dd6034a1bdaecb7294eb6bc8b6601535fd82421696cb79ce8b2d2dbbd5570efc9730bf0ac7c0de75d836e2bef67e07476070c69821aaf717af5ffd3a6307198e007daf7f164382d204b61178a81f0a0e5f101f381be8bfbff55e3528f71400577c5dc7510b687fd03b40c8718ca1b8a1330daa170d56349c5a79de6d10f90593096b71407e34ff579ee7b86792ea873f58f24933247328a34c3e0d1f91181aa2e66208ffc1b19668027044bbea1db90c4308290c8ec550b9e06c888b6b9530114caf7d5b946b0ed4d2043e7b99340f706a8a303a049d3fdeb29ea6a69d6a22fd63d04cd9436a052f24522df1872cbcdbfc61e0ed30260c364c6a2bbbaeb71455fef7d0476d48fc7897f850f2ea7d630f50321fa96a6557fc45ea9c03e19d25bdea436e3cd7aafab7b7bab5ee28057fd716641a53b42b425659b5f04490320fec880fd305aa7b9446add2483f9b067b5114053948c992cab3a5db37f05d1b0b51a01670a740ea2e35d72e26e78176541c28602f88ca489cacec882f6636a21a1155cad58bc5db66e32406421ad5f6a4fbff41c187e042d10746983363ccd21b8fb93a6c92edc631c48e6019f73c7bf3aa756318ea45750a53531d8aed5950246e203f1bce35b14dca28557ff97ffbe131aa64e18bdf3f38c599a9de787a2027f5e69eb44afb4f1397b4b514b6443369ad8fb216becf49686095e5a904554501f5f19892a5b099bd0abaa7fe0cc853ea9d2c08cdaa64e5ad3eea941085f23a1fcaa605aa02d1c447cea85ef4a0c07c2bf333752f99fa8c4dccdd7cad0f2a1611ef32e41af9eb2cfa0890d535628eff25d874b1053212baf055fc2139ee42a4244a263704c9a331797dae2c169021ccad11af20361242c1d0419f399b3d0d9407974f0d668182dcaa5f772078ddde47bf5f3a9f3aad675fcbb9cc019184cafe1c984e4e747f7d3c50cc825f313a932f9078538437cbbf45289fc491515213221d3f72d9112858ffa226f3d773e525a4e51ad39f90b7549fcf399b22137ada791fa7cae11efe61f6a06f3a1e5d0dd0d7193454b1b31ca09d086505da04d155890466f72787619165749f02e9504d2021b30710e077f7fa0d9d99b6b86fa70df12340bd5937d7d6f4196db4b767cb5fbf0118182614db7963c5d2abfd887a130727240e3d4d3fa7394fa99bf0666a56a22c356ef04a25f741b30cf536929d143b10137736e149d851da24afabc5d1cc0ce71358596ba8e3e4b551d5afc754a4ff2c0c538592776605a7added721f5c768722b264483bd2bbd1cd9b2bb0c0f8b092ff41fcf07312c58ea9a3b722000b15088b5ee0ef0a80382418beb6f45f4a0921b08b62062f351ea287ffeb5ee927c91cf0f9945679984ededc5de84fc9289252277d36982ae8633cccf3aa9d638c636062f3df7446ea50d67be401f62788b7a21da12e03c9f1a6a55c16e35386d6cf521b73f4f5298ac2d21db71a60a79388d1056df6d6e796c76339cbc96883a84caee78856e259b2d7757e444dbfeaa71951eaa5b40874ca24f209be4c1429a743934386b081942b1111825bfb71bf9d77a06b72f04e4384e3463278631596170a686c7b5d1e2779ae1f9d647a2ee2156182ac946ed5beb36dadc58683c150504fd2561bc0a184ad3a361047c7b7bb61b9e017c2bfc5a6fe1baaa77f4f3edde29e9372da6e472f31ba127ae53e1ba2620ce0fed103c3e64c91cea30a2e5445afeb228be3c69d7c9c684c595d7ec18f48d9802a014ac4a46c7bad156239bae518dfdeefc61abef996c22ab58113a71e8993609b177abfd830cce47c60bd6e30f2ba0feef292d80551679506ce56b1ef8a26225883f4b4c66fe798902ef2bc2094ee6f9db90e4f729be1f3a4e7f6dc54c37f925883f4b4c66fe798902ef2bc2094ee6f9db90e4f729be1f3a4e7f6dc54c37f91edc4d60cdd62249e5853718962a533d2040f00db363579c5ebb630779a135d41edc4d60cdd62249e5853718962a533d2040f00db363579c5ebb630779a135d409fecdc3e716b9fc2dc7b25c9e8a2ab8d83d3be70259c7b2a8e0d616bfb2e5bd06217e4ebd8393e6ac6097cb5ff531f4470854446b720d5a3bbe1fbc91c941f7136814eee088241c60a9db91a6950c33205429e1bb0426b3f0ed71f30966dd56000000000000000000000000000000000000000000000000000000000000000000000000000000000000000000000000000000000000000000000000000000000d87253724daf5f91aa1393fc11e7a1788728c6272db58f40ac1a88afcadf5fa17fefb9c513ea9f4698c9be3a856b639a95343c72aa48e3c223e59af4bdb339c2bba479db7d3d188edce375af334ab1dd47a12483732d4a90a33cc27af3df69f112b2d8eaaa2f8e8d8dbccf157ed36ead90703ffbc6d0e220d5a6c81232088bd25b07affd35ba1027e4fb1463b7db3349d1204e62857afe95d8050a36bfd78141980f2ee9c8ff03a080664c53042ae602e9d38b6e2a35e573a669c99752fc3442c631fc5e4e78ce9256c8204fc8953c50565b1afc14a1ee78d207bfc8d4979881bd211eddfe60256b9bd82d8562be3b9a835a2176720e005a3d57a149251748915b8be66d30ed1ae43f518f38037784b191baab0075a81e20ef60410d2bfe25008839f8b32c6b67bc19eea90b77a9942c1b2d7fa983cae270b0126e9fe078b8f2ead141e987f345194d60af7eeb9f270dc32cd78668169a793ecef76caa0fdb210761358046621251b30df5259f80059e452beb37d1815d8c30fcd3399cfe53a0bbba93b56e6cf7404462be96ac520b2b3494deaa1d273bbd42e0c798c4612ac26ce2e606e3ef2bdd0c8aed1452922174425a8da70775721251b64080c28d1cc266028b71e0f62033fce2cad03a692f803327ddd51073708e1b6718495469299300d5d86b7ea5e74fd0d687281969a78f1bd6829655b78726420483f686fd95e02f59147fea7820fe48d09d74f223e57a43ee2f8eb13a1a5b2384c1da66133f826c075098bd83b0782a1d395dc16c23340bcd3b147ff5e7966936171d20a69a20f569df3d0dcb8e881bd8ca51d98f4825fef9e17b0b89a0f78fcdd325006d98f2324681cf15d7016df13fa4c351185e3582a154cbcebe9facfbd80dab0114b9e184b67fcfc3a97bca78ea7f6043865b5d75439bb1cf3d8738830e2c2897cbd7720ba0740c76416d6106508bd222b26c6fd361ed146ddf323c13615bc614b7e491a8af4652a5a63907983b405c0c6404cc62c78f44323527797a0a9c52c11db0718ce579724facf6a148eba11e59917d9be5c37cae54f847e906c32eb157914ca17d809af2c5ae5ce8327bd79d5a8f822f11415737510b64280aa14f24df1d90f2eece66c35934111017481cab2469a3f4740e20a19468f1209046925d94ac7c70258366f34b3c8e08b053859e71d7d547c7cc8fbc79d0ed609b1d88cceec7d821200c3bed2db606e16d041bd1d88500c3b1103439f8eaff6c9736f2097fd3e4418b88b90954c56c9053a21be3e0e4b71cf838e7adf449aa0cbced01314f8212e15e40e94300450b84ec0c2a919699595b3103bb8064c28f7d0d911c1243f3ae9003859adffc67e594555ef0847d10b6081eed4d84b4757df6682f042e2c55b0a282e163105f1fa73593993da19f9fbe1e34d86a1832802dc72847cd41b13b67f10cec614de48b9d0071cd459adad61862278d8246d0e92a3127b030e847fec7b', 'transcript_type': 'EVM'}\n"
          ]
        }
      ],
      "source": [
        "# GENERATE A PROOF\n",
        "\n",
        "\n",
        "proof_path = os.path.join('test.pf')\n",
        "\n",
        "res = ezkl.prove(\n",
        "        witness_path,\n",
        "        compiled_model_path,\n",
        "        pk_path,\n",
        "        proof_path,\n",
        "\n",
        "        \"single\",\n",
        "    )\n",
        "\n",
        "print(res)\n",
        "assert os.path.isfile(proof_path)"
      ]
    },
    {
      "cell_type": "code",
      "execution_count": 11,
      "id": "76f00d41",
      "metadata": {
        "id": "76f00d41",
        "outputId": "2574c1e3-e2ad-463b-c42f-8829cd418f2a",
        "colab": {
          "base_uri": "https://localhost:8080/"
        }
      },
      "outputs": [
        {
          "output_type": "stream",
          "name": "stdout",
          "text": [
            "verified\n"
          ]
        }
      ],
      "source": [
        "# VERIFY IT\n",
        "\n",
        "res = ezkl.verify(\n",
        "        proof_path,\n",
        "        settings_path,\n",
        "        vk_path,\n",
        "\n",
        "    )\n",
        "\n",
        "assert res == True\n",
        "print(\"verified\")"
      ]
    }
  ],
  "metadata": {
    "kernelspec": {
      "display_name": "Python 3 (ipykernel)",
      "language": "python",
      "name": "python3"
    },
    "language_info": {
      "codemirror_mode": {
        "name": "ipython",
        "version": 3
      },
      "file_extension": ".py",
      "mimetype": "text/x-python",
      "name": "python",
      "nbconvert_exporter": "python",
      "pygments_lexer": "ipython3",
      "version": "3.9.15"
    },
    "colab": {
      "provenance": [],
      "include_colab_link": true
    }
  },
  "nbformat": 4,
  "nbformat_minor": 5
}